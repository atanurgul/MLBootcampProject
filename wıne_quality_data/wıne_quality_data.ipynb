{
 "cells": [
  {
   "cell_type": "code",
   "execution_count": null,
   "id": "07826069",
   "metadata": {},
   "outputs": [
    {
     "name": "stdout",
     "output_type": "stream",
     "text": [
      "Veri yüklendi ve işlendi.\n",
      "      quality quality_category  quality_label\n",
      "552         6             orta              1\n",
      "14          5             orta              1\n",
      "1317        6             orta              1\n"
     ]
    }
   ],
   "source": [
    "import pandas as pd\n",
    "from sklearn.preprocessing import LabelEncoder\n",
    "\n",
    "\n",
    "df = pd.read_csv('winequality-red.csv', sep=';')\n",
    "\n",
    "# Kalite skorlarını 3 kategoriye bölüyorum\n",
    "df['quality_category'] = pd.cut(\n",
    "    df['quality'],\n",
    "    bins=[0, 4, 6, 10],\n",
    "    labels=['düşük', 'orta', 'yüksek']\n",
    ")\n",
    "\n",
    "# Kategorik etiketleri sayısala çeviriyorum\n",
    "le = LabelEncoder()\n",
    "df['quality_label'] = le.fit_transform(df['quality_category'])\n",
    "\n",
    "print(\"Veri yüklendi ve işlendi.\")\n",
    "print(df[['quality', 'quality_category', 'quality_label']].sample(3))\n"
   ]
  },
  {
   "cell_type": "code",
   "execution_count": 19,
   "id": "f7a78915",
   "metadata": {},
   "outputs": [
    {
     "name": "stdout",
     "output_type": "stream",
     "text": [
      "\n",
      " 2. ADIM TAMAMLANDI: Veri bölündü!\n",
      "Eğitim Verisi Boyutu: (1279, 11)\n",
      "Test Verisi Boyutu: (320, 11)\n"
     ]
    }
   ],
   "source": [
    "from sklearn.model_selection import train_test_split\n",
    "\n",
    "# X ve Y özelliklerini ayırdım\n",
    "X = df.drop(['quality', 'quality_category', 'quality_label'], axis=1)  # X için\n",
    "y = df['quality_label']  # y için\n",
    "\n",
    "# Eğitim ve test setlerini ayırıyorum\n",
    "X_train, X_test, y_train, y_test = train_test_split(X, y, test_size=0.2, random_state=42)\n",
    "\n",
    "# Kontrol\n",
    "print(\"\\n 2. ADIM TAMAMLANDI: Veri bölündü!\")\n",
    "print(\"Eğitim Verisi Boyutu:\", X_train.shape)\n",
    "print(\"Test Verisi Boyutu:\", X_test.shape)"
   ]
  },
  {
   "cell_type": "code",
   "execution_count": 20,
   "id": "acc0ccc0",
   "metadata": {},
   "outputs": [
    {
     "name": "stdout",
     "output_type": "stream",
     "text": [
      "\n",
      " 3. ADIM TAMAMLANDI: SMOTE uygulandı!\n",
      "Yeni Dağılım:\n",
      "1    1057\n",
      "0    1057\n",
      "2    1057\n",
      "Name: quality_label, dtype: int64\n"
     ]
    }
   ],
   "source": [
    "#Dengesiz veri setimi dengelemek için SMOTE kullanıyorum\n",
    "from imblearn.over_sampling import SMOTE\n",
    "\n",
    "smote = SMOTE(random_state=42)\n",
    "X_res, y_res = smote.fit_resample(X_train, y_train)  \n",
    "\n",
    "# Kontrol\n",
    "print(\"\\n 3. ADIM TAMAMLANDI: SMOTE uygulandı!\")\n",
    "print(\"Yeni Dağılım:\")\n",
    "print(pd.Series(y_res).value_counts())  "
   ]
  },
  {
   "cell_type": "code",
   "execution_count": 21,
   "id": "54402cc8",
   "metadata": {},
   "outputs": [
    {
     "name": "stdout",
     "output_type": "stream",
     "text": [
      "\n",
      " 4. ADIM TAMAMLANDI: Model eğitildi!\n"
     ]
    }
   ],
   "source": [
    "from sklearn.ensemble import RandomForestClassifier\n",
    "\n",
    "model = RandomForestClassifier(\n",
    "    random_state=42,\n",
    "    n_estimators=200  # Daha iyi ve hızlı output için\n",
    ")\n",
    "model.fit(X_res, y_res)\n",
    "\n",
    "print(\"\\n 4. ADIM TAMAMLANDI: Model eğitildi!\")"
   ]
  },
  {
   "cell_type": "code",
   "execution_count": null,
   "id": "28ebc93f",
   "metadata": {},
   "outputs": [
    {
     "name": "stdout",
     "output_type": "stream",
     "text": [
      "\n",
      "📊 SONUÇLAR:\n",
      "              precision    recall  f1-score   support\n",
      "\n",
      "       düşük       0.29      0.36      0.32        11\n",
      "        orta       0.94      0.88      0.91       262\n",
      "      yüksek       0.64      0.81      0.72        47\n",
      "\n",
      "    accuracy                           0.85       320\n",
      "   macro avg       0.62      0.68      0.65       320\n",
      "weighted avg       0.87      0.85      0.86       320\n",
      "\n"
     ]
    }
   ],
   "source": [
    "from sklearn.metrics import classification_report\n",
    "\n",
    "y_pred = model.predict(X_test)\n",
    "print(\"\\n SONUÇLAR:\")\n",
    "print(classification_report(y_test, y_pred, target_names=['düşük', 'orta', 'yüksek']))"
   ]
  },
  {
   "cell_type": "code",
   "execution_count": 23,
   "id": "6fb96b50",
   "metadata": {},
   "outputs": [
    {
     "name": "stdout",
     "output_type": "stream",
     "text": [
      " En İyi Parametreler: {'max_depth': 15, 'min_samples_split': 2, 'n_estimators': 200}\n"
     ]
    }
   ],
   "source": [
    "from sklearn.model_selection import GridSearchCV\n",
    "from sklearn.ensemble import RandomForestClassifier\n",
    "\n",
    "# Hiperparametre kombinasyonları \n",
    "param_grid = {\n",
    "    'n_estimators': [200, 300],  \n",
    "    'max_depth': [15, 20, None],\n",
    "    'min_samples_split': [2, 5]\n",
    "}\n",
    "\n",
    "\n",
    "grid_search = GridSearchCV(\n",
    "    RandomForestClassifier(random_state=42),\n",
    "    param_grid,\n",
    "    cv=5,  \n",
    "    scoring='f1_macro'\n",
    ")\n",
    "\n",
    "# X_res ve y_res ile eğittik\n",
    "grid_search.fit(X_res, y_res)  \n",
    "\n",
    "print(\" En İyi Parametreler:\", grid_search.best_params_)"
   ]
  },
  {
   "cell_type": "code",
   "execution_count": 24,
   "id": "50d21e99",
   "metadata": {},
   "outputs": [
    {
     "name": "stdout",
     "output_type": "stream",
     "text": [
      "\n",
      " 7. ADIM TAMAMLANDI: Final model eğitildi!\n"
     ]
    }
   ],
   "source": [
    "# parametrelerle modeli eğittim\n",
    "best_model = grid_search.best_estimator_\n",
    "best_model.fit(X_res, y_res)\n",
    "\n",
    "print(\"\\n 7. ADIM TAMAMLANDI: Final model eğitildi!\")"
   ]
  },
  {
   "cell_type": "code",
   "execution_count": 25,
   "id": "6ee163e6",
   "metadata": {},
   "outputs": [
    {
     "name": "stdout",
     "output_type": "stream",
     "text": [
      "\n",
      " FİNAL MODELİN TEST PERFORMANSI:\n",
      "              precision    recall  f1-score   support\n",
      "\n",
      "       düşük       0.25      0.36      0.30        11\n",
      "        orta       0.95      0.87      0.91       262\n",
      "      yüksek       0.65      0.87      0.75        47\n",
      "\n",
      "    accuracy                           0.85       320\n",
      "   macro avg       0.62      0.70      0.65       320\n",
      "weighted avg       0.88      0.85      0.86       320\n",
      "\n",
      "Karışıklık Matrisi:\n",
      "[[  4   7   0]\n",
      " [ 12 228  22]\n",
      " [  0   6  41]]\n"
     ]
    }
   ],
   "source": [
    "from sklearn.metrics import classification_report, confusion_matrix\n",
    "\n",
    "y_pred_best = best_model.predict(X_test)\n",
    "\n",
    "print(\"\\n FİNAL MODELİN TEST PERFORMANSI:\")\n",
    "print(classification_report(y_test, y_pred_best, target_names=['düşük', 'orta', 'yüksek']))\n",
    "\n",
    "print(\"Karışıklık Matrisi:\")\n",
    "print(confusion_matrix(y_test, y_pred_best))\n"
   ]
  }
 ],
 "metadata": {
  "kernelspec": {
   "display_name": "base",
   "language": "python",
   "name": "python3"
  },
  "language_info": {
   "codemirror_mode": {
    "name": "ipython",
    "version": 3
   },
   "file_extension": ".py",
   "mimetype": "text/x-python",
   "name": "python",
   "nbconvert_exporter": "python",
   "pygments_lexer": "ipython3",
   "version": "3.9.12"
  }
 },
 "nbformat": 4,
 "nbformat_minor": 5
}
